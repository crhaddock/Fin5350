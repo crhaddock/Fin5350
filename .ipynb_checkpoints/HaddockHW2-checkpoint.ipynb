{
 "cells": [
  {
   "cell_type": "code",
   "execution_count": 42,
   "metadata": {},
   "outputs": [],
   "source": [
    "import numpy as np\n",
    "from scipy.stats import binom\n",
    "\n",
    "# U is a function that calculates the \"up\" value for the stock\n",
    "def U(r,delta,t,n,sigma):\n",
    "    h = t/n\n",
    "    answer = np.exp(((r - delta)) * h + (sigma * np.sqrt(h)))\n",
    "    return float(answer)\n",
    "\n",
    "# D is a function that calculates the \"down\" value for the stock\n",
    "def D(r,delta,t,n,sigma):\n",
    "    h = t/n\n",
    "    answer = np.exp(((r - delta)) * h - (sigma * np.sqrt(h)))\n",
    "    return float(answer)\n",
    "\n",
    "def callPayoff(spot, strike):\n",
    "    return np.maximum(spot - strike, 0.0)\n",
    "\n",
    "def putPayoff(spot, strike):\n",
    "    return np.maximum(strike - spot, 0.0)\n",
    "\n",
    "def euroBinomPricer(S, K, r, sigma, dlta, T, n, payoff, verbose = True):\n",
    "    nodes = n + 1\n",
    "    h = T/n\n",
    "    u = U(r,dlta,T,n,sigma)\n",
    "    d = D(r,dlta, T, n, sigma)\n",
    "    pstar = (np.exp((r - dlta) * h) - d) / (u - d)\n",
    "    \n",
    "    price = 0.0\n",
    "    \n",
    "    for i in range(nodes):\n",
    "        prob = binom.pmf(i, n, pstar)\n",
    "        spotT = S * (u **(i)) * (d **(n - i))\n",
    "        po = payoff(spotT, K)\n",
    "        price += po * prob\n",
    "        if (verbose == True): \n",
    "            print(f\"({spotT:0.4f}, {po:0.4f}, {prob:0.4f})\")\n",
    "    price *= np.exp(-r * T)\n",
    "    return price\n",
    "\n",
    "def BinomPricerRecursive(S, K, r, sigma, dlta, T, n, payoff, american = False, verbose = False):\n",
    "    nodes = n + 1\n",
    "    h = T/n\n",
    "    u = U(r,dlta,T,n,sigma)\n",
    "    d = D(r,dlta, T, n, sigma)\n",
    "    pu = (np.exp((r - dlta) * h) - d) / (u - d)\n",
    "    pd = 1.0 - pu\n",
    "    disc = np.exp(-r * h)\n",
    "    \n",
    "    Ct = np.empty(nodes)\n",
    "    St = np.empty(nodes)\n",
    "    \n",
    "    for i in range(nodes):\n",
    "        St[i] = S * (u ** (n - i)) * (d ** i)\n",
    "        Ct[i] = payoff(St[i], K)\n",
    "    \n",
    "    if (verbose):\n",
    "       print(Ct)\n",
    "    \n",
    "    for t in range((n - 1), -1, -1):\n",
    "        for j in range(t + 1):\n",
    "            Ct[j] = disc * (pu * Ct[j] + pd * Ct[j+1])\n",
    "            if (american == True):\n",
    "                St[j] = St[j] / u\n",
    "                Ct[j] = np.maximum(Ct[j], payoff(St[j], K))\n",
    "            #print(Ct)\n",
    "\n",
    "    return Ct[0]\n",
    "    \n",
    "\n",
    "def euroBinomPricerRecursiveMatrix(S, K, r, sigma, dlta, T, n, payoff, verbose = True):\n",
    "    nodes = n + 1\n",
    "    h = T/n\n",
    "    u = U(r,dlta,T,n,sigma)\n",
    "    d = D(r,dlta, T, n, sigma)\n",
    "    pu = (np.exp((r - dlta) * h) - d) / (u - d)\n",
    "    pd = 1.0 - pu\n",
    "    disc = np.exp(-r * h)\n",
    "    \n",
    "    ## Arrays to store the spot prices and option values\n",
    "    Ct = np.zeros((nodes, n+1))\n",
    "    St = np.zeros((nodes, n+1))\n",
    "    Dt = np.zeros((nodes, n+1))\n",
    "    Bt = np.zeros((nodes, n+1))\n",
    "    for i in range(nodes):\n",
    "        St[i, n] = S * (u**(n-i)) * (d**i)\n",
    "        Ct[i, n] = payoff(St[i, n], K)\n",
    "    \n",
    "    \n",
    "\n",
    "    for t in range((n-1), -1, -1):\n",
    "        for j in range(t+1):\n",
    "            St[j, t] = St[j, t+1] / u\n",
    "            Ct[j, t] = disc * ((pu * Ct[j, t+1]) + (pd * Ct[j+1, t+1]))\n",
    "            Dt[j, t] = ((Ct[j, t + 1] - Ct[j + 1, t + 1])/(S * (u - d)))\n",
    "            Bt[j, t] = (np.exp(-r * h))*(((u*Ct[j+1, t + 1]) - (d * Ct[j, t + 1]))/(u-d))\n",
    "        \n",
    "    if verbose:\n",
    "        print(St)\n",
    "        print(\"\\n\")\n",
    "        print(Ct)\n",
    "        print(\"\\n\")\n",
    "        print(Dt)\n",
    "        print(\"\\n\")\n",
    "        print(Bt)                   \n",
    "            \n",
    "    return Ct[0,0]\n",
    "        \n",
    "def simpleeuroBinomPricerRecursiveMatrix(S, K, r, dlta, T, n, payoff, u, d, verbose = True):\n",
    "    nodes = n + 1\n",
    "    h = T/n\n",
    "    u = u\n",
    "    d = d\n",
    "    pu = (np.exp((r - dlta) * h) - d) / (u - d)\n",
    "    pd = 1.0 - pu\n",
    "    disc = np.exp(-r * h)\n",
    "    \n",
    "    ## Arrays to store the spot prices and option values\n",
    "    Ct = np.zeros((nodes, n+1))\n",
    "    St = np.zeros((nodes, n+1))\n",
    "    Dt = np.zeros((nodes, n+1))\n",
    "    Bt = np.zeros((nodes, n+1))\n",
    "    for i in range(nodes):\n",
    "        St[i, n] = S * (u**(n-i)) * (d**i)\n",
    "        Ct[i, n] = payoff(St[i, n], K)\n",
    "    \n",
    "    \n",
    "\n",
    "    for t in range((n-1), -1, -1):\n",
    "        for j in range(t+1):\n",
    "            St[j, t] = St[j, t+1] / u\n",
    "            Ct[j, t] = disc * ((pu * Ct[j, t+1]) + (pd * Ct[j+1, t+1]))\n",
    "            Dt[j, t] = ((Ct[j, t + 1] - Ct[j + 1, t + 1])/(S * (u - d)))\n",
    "            Bt[j, t] = (np.exp(-r * h))*(((u*Ct[j+1, t + 1]) - (d * Ct[j, t + 1]))/(u-d))\n",
    "        \n",
    "    if verbose:\n",
    "        print(St)\n",
    "        print(\"\\n\")\n",
    "        print(Ct)\n",
    "        print(\"\\n\")\n",
    "        print(Dt)\n",
    "        print(\"\\n\")\n",
    "        print(Bt)                   \n",
    "            \n",
    "    return Ct[0,0]"
   ]
  },
  {
   "cell_type": "markdown",
   "metadata": {},
   "source": [
    "## Problem 1\n",
    "Let S = \\$100, K = \\$105, r = 8%, T = 0.5, $\\delta$ = 0.0, Let u = 1.3, d = 0.8, and n = 1"
   ]
  },
  {
   "cell_type": "code",
   "execution_count": 2,
   "metadata": {},
   "outputs": [],
   "source": [
    "S = 100\n",
    "K = 105\n",
    "T = 0.5\n",
    "dlta = 0.0\n",
    "r = 0.08\n",
    "n = 1\n",
    "u = 1.3\n",
    "d = 0.8"
   ]
  },
  {
   "cell_type": "markdown",
   "metadata": {},
   "source": [
    "#### A\n",
    "What are premium, $\\Delta$, and B for a European call?"
   ]
  },
  {
   "cell_type": "code",
   "execution_count": 3,
   "metadata": {},
   "outputs": [
    {
     "name": "stdout",
     "output_type": "stream",
     "text": [
      "[[100. 130.]\n",
      " [  0.  80.]]\n",
      "\n",
      "\n",
      "[[11.56842243 25.        ]\n",
      " [ 0.          0.        ]]\n",
      "\n",
      "\n",
      "[[0.5 0. ]\n",
      " [0.  0. ]]\n",
      "\n",
      "\n",
      "[[-38.43157757   0.        ]\n",
      " [  0.           0.        ]]\n"
     ]
    },
    {
     "data": {
      "text/plain": [
       "11.568422433907068"
      ]
     },
     "execution_count": 3,
     "metadata": {},
     "output_type": "execute_result"
    }
   ],
   "source": [
    "simpleeuroBinomPricerRecursiveMatrix(S, K, r, dlta, T, n, callPayoff, u, d, verbose = True)"
   ]
  },
  {
   "cell_type": "markdown",
   "metadata": {},
   "source": [
    "Premium = 11.568422, $\\Delta$ = 0.5, and B = -38.431577"
   ]
  },
  {
   "cell_type": "markdown",
   "metadata": {},
   "source": [
    "#### B\n",
    "What are premium, $\\Delta$, and B for a European put?"
   ]
  },
  {
   "cell_type": "code",
   "execution_count": 4,
   "metadata": {},
   "outputs": [
    {
     "name": "stdout",
     "output_type": "stream",
     "text": [
      "[[100. 130.]\n",
      " [  0.  80.]]\n",
      "\n",
      "\n",
      "[[12.45131354  0.        ]\n",
      " [ 0.         25.        ]]\n",
      "\n",
      "\n",
      "[[-0.5  0. ]\n",
      " [ 0.   0. ]]\n",
      "\n",
      "\n",
      "[[62.45131354  0.        ]\n",
      " [ 0.          0.        ]]\n"
     ]
    },
    {
     "data": {
      "text/plain": [
       "12.45131354490101"
      ]
     },
     "execution_count": 4,
     "metadata": {},
     "output_type": "execute_result"
    }
   ],
   "source": [
    "simpleeuroBinomPricerRecursiveMatrix(S, K, r, dlta, T, n, putPayoff, u, d, verbose = True)"
   ]
  },
  {
   "cell_type": "markdown",
   "metadata": {},
   "source": [
    "Premium = 12.451313, $\\Delta$ = -0.5, and B = 62.451313"
   ]
  },
  {
   "cell_type": "markdown",
   "metadata": {},
   "source": [
    "## Problem 2\n",
    "Let S = \\$100, K = \\$95, r = 8%, T = 0.5 and $\\delta$ = 0.0. Let u = 1.3, d = 0.8, and n = 1"
   ]
  },
  {
   "cell_type": "code",
   "execution_count": 5,
   "metadata": {},
   "outputs": [],
   "source": [
    "S = 100\n",
    "K = 95\n",
    "r = 0.08\n",
    "T = 0.5\n",
    "dlta = 0.0\n",
    "u = 1.3\n",
    "d = 0.8\n",
    "n = 1"
   ]
  },
  {
   "cell_type": "markdown",
   "metadata": {},
   "source": [
    "#### A\n",
    "Verify that the price of a European put is \\$7.471"
   ]
  },
  {
   "cell_type": "code",
   "execution_count": 6,
   "metadata": {},
   "outputs": [
    {
     "name": "stdout",
     "output_type": "stream",
     "text": [
      "[[100. 130.]\n",
      " [  0.  80.]]\n",
      "\n",
      "\n",
      "[[ 7.47078813  0.        ]\n",
      " [ 0.         15.        ]]\n",
      "\n",
      "\n",
      "[[-0.3  0. ]\n",
      " [ 0.   0. ]]\n",
      "\n",
      "\n",
      "[[37.47078813  0.        ]\n",
      " [ 0.          0.        ]]\n"
     ]
    },
    {
     "data": {
      "text/plain": [
       "7.470788126940606"
      ]
     },
     "execution_count": 6,
     "metadata": {},
     "output_type": "execute_result"
    }
   ],
   "source": [
    "simpleeuroBinomPricerRecursiveMatrix(S, K, r, dlta, T, n, putPayoff, u, d, verbose = True)"
   ]
  },
  {
   "cell_type": "markdown",
   "metadata": {},
   "source": [
    "As seen above, the premium of a European put with the given parameters is \\$7.471 with  $\\Delta$ = -0.3 and B = 37.47"
   ]
  },
  {
   "cell_type": "markdown",
   "metadata": {},
   "source": [
    "#### B\n",
    "Suppose you observe a call price of \\$17. What is the arbitrage?"
   ]
  },
  {
   "cell_type": "code",
   "execution_count": 7,
   "metadata": {},
   "outputs": [
    {
     "name": "stdout",
     "output_type": "stream",
     "text": [
      "[[100. 130.]\n",
      " [  0.  80.]]\n",
      "\n",
      "\n",
      "[[16.19579141 35.        ]\n",
      " [ 0.          0.        ]]\n",
      "\n",
      "\n",
      "[[0.7 0. ]\n",
      " [0.  0. ]]\n",
      "\n",
      "\n",
      "[[-53.80420859   0.        ]\n",
      " [  0.           0.        ]]\n"
     ]
    },
    {
     "data": {
      "text/plain": [
       "16.195791407469894"
      ]
     },
     "execution_count": 7,
     "metadata": {},
     "output_type": "execute_result"
    }
   ],
   "source": [
    "simpleeuroBinomPricerRecursiveMatrix(S, K, r, dlta, T, n, callPayoff, u, d, verbose = True)"
   ]
  },
  {
   "cell_type": "markdown",
   "metadata": {},
   "source": [
    "In this situation the option is overpriced and the arbitrage is equal to the option premium of \\$17.00 - $\\Delta$ * Stock Price + 53.804"
   ]
  },
  {
   "cell_type": "code",
   "execution_count": 8,
   "metadata": {},
   "outputs": [
    {
     "data": {
      "text/plain": [
       "0.804000000000002"
      ]
     },
     "execution_count": 8,
     "metadata": {},
     "output_type": "execute_result"
    }
   ],
   "source": [
    "17.00 - (100 * .7) + 53.804"
   ]
  },
  {
   "cell_type": "markdown",
   "metadata": {},
   "source": [
    "#### C\n",
    "Suppose you observe a call price of \\$15.50. What is the arbitrage?"
   ]
  },
  {
   "cell_type": "markdown",
   "metadata": {},
   "source": [
    "In this situation the option is underpriced and the arbitrage is equal to the option premium of -\\$15.50 + $\\Delta$ * Stock Price - 53.804"
   ]
  },
  {
   "cell_type": "code",
   "execution_count": 9,
   "metadata": {},
   "outputs": [
    {
     "data": {
      "text/plain": [
       "0.695999999999998"
      ]
     },
     "execution_count": 9,
     "metadata": {},
     "output_type": "execute_result"
    }
   ],
   "source": [
    "- 15.50 + (100 * .7) - 53.804"
   ]
  },
  {
   "cell_type": "markdown",
   "metadata": {},
   "source": [
    "## Problem 3\n",
    "Let S = \\$100, K = \\$95, $\\sigma$ = 30%, r = 8%, T = 1 and $\\delta$ = 0.0. Let u = 1.3, d = 0.8, and n = 2. Construct the binomial tree for a call option. At each node provide the premium, $\\Delta$, and B."
   ]
  },
  {
   "cell_type": "code",
   "execution_count": 10,
   "metadata": {},
   "outputs": [],
   "source": [
    "S = 100\n",
    "K = 95\n",
    "r = 0.08\n",
    "T = 1\n",
    "sigma = 0.3\n",
    "dlta = 0.0\n",
    "u = 1.3\n",
    "d = 0.8\n",
    "n = 2"
   ]
  },
  {
   "cell_type": "code",
   "execution_count": 11,
   "metadata": {},
   "outputs": [
    {
     "name": "stdout",
     "output_type": "stream",
     "text": [
      "[[100. 130. 169.]\n",
      " [  0.  80. 104.]\n",
      " [  0.   0.  64.]]\n",
      "\n",
      "\n",
      "[[19.99369346 38.72500328 74.        ]\n",
      " [ 0.          4.16463208  9.        ]\n",
      " [ 0.          0.          0.        ]]\n",
      "\n",
      "\n",
      "[[0.69120742 1.3        0.        ]\n",
      " [0.         0.18       0.        ]\n",
      " [0.         0.         0.        ]]\n",
      "\n",
      "\n",
      "[[-49.12704895 -91.27499672   0.        ]\n",
      " [  0.         -13.83536792   0.        ]\n",
      " [  0.           0.           0.        ]]\n"
     ]
    },
    {
     "data": {
      "text/plain": [
       "19.993693459343987"
      ]
     },
     "execution_count": 11,
     "metadata": {},
     "output_type": "execute_result"
    }
   ],
   "source": [
    "simpleeuroBinomPricerRecursiveMatrix(S, K, r, dlta, T, n, callPayoff, u, d, verbose = True)"
   ]
  },
  {
   "cell_type": "markdown",
   "metadata": {},
   "source": [
    "Above are the values for premium (second matrix from top), $\\Delta$ (third matrix from top), and B (bottom matrix)."
   ]
  },
  {
   "cell_type": "markdown",
   "metadata": {},
   "source": [
    "## Problem 4\n",
    "Repeat the option price calculation in the previous question for stock prices of \\$80, \\$90, \\$110, \\$120 and \\$130, but now let n = 3. Keep everything else fixed. What happens to the initial option $\\Delta$ as the stock price increases."
   ]
  },
  {
   "cell_type": "markdown",
   "metadata": {},
   "source": [
    "#### \\$80"
   ]
  },
  {
   "cell_type": "code",
   "execution_count": 12,
   "metadata": {},
   "outputs": [],
   "source": [
    "S = 80\n",
    "K = 95\n",
    "r = 0.08\n",
    "T = 1\n",
    "sigma = 0.3\n",
    "dlta = 0.0\n",
    "u = 1.3\n",
    "d = 0.8\n",
    "n = 3"
   ]
  },
  {
   "cell_type": "code",
   "execution_count": 13,
   "metadata": {},
   "outputs": [
    {
     "name": "stdout",
     "output_type": "stream",
     "text": [
      "[[ 80.   104.   135.2  175.76]\n",
      " [  0.    64.    83.2  108.16]\n",
      " [  0.     0.    51.2   66.56]\n",
      " [  0.     0.     0.    40.96]]\n",
      "\n",
      "\n",
      "[[11.08055585 21.9705133  42.69985381 80.76      ]\n",
      " [ 0.          2.57218631  5.81807286 13.16      ]\n",
      " [ 0.          0.          0.          0.        ]\n",
      " [ 0.          0.          0.          0.        ]]\n",
      "\n",
      "\n",
      "[[0.48495817 0.92204452 1.69       0.        ]\n",
      " [0.         0.14545182 0.329      0.        ]\n",
      " [0.         0.         0.         0.        ]\n",
      " [0.         0.         0.         0.        ]]\n",
      "\n",
      "\n",
      "[[-27.71609813 -51.7930486  -92.50014619   0.        ]\n",
      " [  0.          -9.06395941 -20.50192714   0.        ]\n",
      " [  0.           0.           0.           0.        ]\n",
      " [  0.           0.           0.           0.        ]]\n"
     ]
    },
    {
     "data": {
      "text/plain": [
       "11.080555851351969"
      ]
     },
     "execution_count": 13,
     "metadata": {},
     "output_type": "execute_result"
    }
   ],
   "source": [
    "simpleeuroBinomPricerRecursiveMatrix(S, K, r, dlta, T, n, callPayoff, u, d, verbose = True)"
   ]
  },
  {
   "cell_type": "markdown",
   "metadata": {},
   "source": [
    "Above are the values for premium (second matrix from top), $\\Delta$ (third matrix from top), and B (bottom matrix)."
   ]
  },
  {
   "cell_type": "markdown",
   "metadata": {},
   "source": [
    "#### \\$90"
   ]
  },
  {
   "cell_type": "code",
   "execution_count": 14,
   "metadata": {},
   "outputs": [],
   "source": [
    "S = 90\n",
    "K = 95\n",
    "r = 0.08\n",
    "T = 1\n",
    "sigma = 0.3\n",
    "dlta = 0.0\n",
    "u = 1.3\n",
    "d = 0.8\n",
    "n = 3"
   ]
  },
  {
   "cell_type": "code",
   "execution_count": 15,
   "metadata": {},
   "outputs": [
    {
     "name": "stdout",
     "output_type": "stream",
     "text": [
      "[[ 90.   117.   152.1  197.73]\n",
      " [  0.    72.    93.6  121.68]\n",
      " [  0.     0.    57.6   74.88]\n",
      " [  0.     0.     0.    46.08]]\n",
      "\n",
      "\n",
      "[[ 17.19321255  32.61944411  59.59985381 102.73      ]\n",
      " [  0.           5.21473638  11.79530273  26.68      ]\n",
      " [  0.           0.           0.           0.        ]\n",
      " [  0.           0.           0.           0.        ]]\n",
      "\n",
      "\n",
      "[[0.60899351 1.06232336 1.69       0.        ]\n",
      " [0.         0.26211784 0.59288889 0.        ]\n",
      " [0.         0.         0.         0.        ]\n",
      " [0.         0.         0.         0.        ]]\n",
      "\n",
      "\n",
      "[[-37.61620293 -62.98965805 -92.50014619   0.        ]\n",
      " [  0.         -18.37586909 -41.56469727   0.        ]\n",
      " [  0.           0.           0.           0.        ]\n",
      " [  0.           0.           0.           0.        ]]\n"
     ]
    },
    {
     "data": {
      "text/plain": [
       "17.193212548696497"
      ]
     },
     "execution_count": 15,
     "metadata": {},
     "output_type": "execute_result"
    }
   ],
   "source": [
    "simpleeuroBinomPricerRecursiveMatrix(S, K, r, dlta, T, n, callPayoff, u, d, verbose = True)"
   ]
  },
  {
   "cell_type": "markdown",
   "metadata": {},
   "source": [
    "Above are the values for premium (second matrix from top), $\\Delta$ (third matrix from top), and B (bottom matrix)."
   ]
  },
  {
   "cell_type": "markdown",
   "metadata": {},
   "source": [
    "#### \\$110"
   ]
  },
  {
   "cell_type": "code",
   "execution_count": 16,
   "metadata": {},
   "outputs": [],
   "source": [
    "S = 110\n",
    "K = 95\n",
    "r = 0.08\n",
    "T = 1\n",
    "sigma = 0.3\n",
    "dlta = 0.0\n",
    "u = 1.3\n",
    "d = 0.8\n",
    "n = 3"
   ]
  },
  {
   "cell_type": "code",
   "execution_count": 17,
   "metadata": {},
   "outputs": [
    {
     "name": "stdout",
     "output_type": "stream",
     "text": [
      "[[110.   143.   185.9  241.67]\n",
      " [  0.    88.   114.4  148.72]\n",
      " [  0.     0.    70.4   91.52]\n",
      " [  0.     0.     0.    56.32]]\n",
      "\n",
      "\n",
      "[[ 29.41852594  53.91730574  93.39985381 146.67      ]\n",
      " [  0.          10.49983651  23.74976247  53.72      ]\n",
      " [  0.           0.           0.           0.        ]\n",
      " [  0.           0.           0.           0.        ]]\n",
      "\n",
      "\n",
      "[[0.78940853 1.2663653  1.69       0.        ]\n",
      " [0.         0.43181386 0.97672727 0.        ]\n",
      " [0.         0.         0.         0.        ]\n",
      " [0.         0.         0.         0.        ]]\n",
      "\n",
      "\n",
      "[[-57.41641252 -85.38287694 -92.50014619   0.        ]\n",
      " [  0.         -36.99968843 -83.69023753   0.        ]\n",
      " [  0.           0.           0.           0.        ]\n",
      " [  0.           0.           0.           0.        ]]\n"
     ]
    },
    {
     "data": {
      "text/plain": [
       "29.418525943385543"
      ]
     },
     "execution_count": 17,
     "metadata": {},
     "output_type": "execute_result"
    }
   ],
   "source": [
    "simpleeuroBinomPricerRecursiveMatrix(S, K, r, dlta, T, n, callPayoff, u, d, verbose = True)"
   ]
  },
  {
   "cell_type": "markdown",
   "metadata": {},
   "source": [
    "Above are the values for premium (second matrix from top), $\\Delta$ (third matrix from top), and B (bottom matrix)."
   ]
  },
  {
   "cell_type": "markdown",
   "metadata": {},
   "source": [
    "#### \\$120"
   ]
  },
  {
   "cell_type": "code",
   "execution_count": 18,
   "metadata": {},
   "outputs": [],
   "source": [
    "S = 120\n",
    "K = 95\n",
    "r = 0.08\n",
    "T = 1\n",
    "sigma = 0.3\n",
    "dlta = 0.0\n",
    "u = 1.3\n",
    "d = 0.8\n",
    "n = 3"
   ]
  },
  {
   "cell_type": "code",
   "execution_count": 19,
   "metadata": {},
   "outputs": [
    {
     "name": "stdout",
     "output_type": "stream",
     "text": [
      "[[120.   156.   202.8  263.64]\n",
      " [  0.    96.   124.8  162.24]\n",
      " [  0.     0.    76.8   99.84]\n",
      " [  0.     0.     0.    61.44]]\n",
      "\n",
      "\n",
      "[[ 37.34516043  65.93392584 110.29985381 168.64      ]\n",
      " [  0.          15.41732511  32.29985381  67.24      ]\n",
      " [  0.           0.           2.13977756   4.84      ]\n",
      " [  0.           0.           0.           0.        ]]\n",
      "\n",
      "\n",
      "[[0.84194335 1.3        1.69       0.        ]\n",
      " [0.         0.50266794 1.04       0.        ]\n",
      " [0.         0.         0.08066667 0.        ]\n",
      " [0.         0.         0.         0.        ]]\n",
      "\n",
      "\n",
      "[[-63.68804104 -90.06607416 -92.50014619   0.        ]\n",
      " [  0.         -44.9028274  -92.50014619   0.        ]\n",
      " [  0.           0.          -7.54022244   0.        ]\n",
      " [  0.           0.           0.           0.        ]]\n"
     ]
    },
    {
     "data": {
      "text/plain": [
       "37.34516043327331"
      ]
     },
     "execution_count": 19,
     "metadata": {},
     "output_type": "execute_result"
    }
   ],
   "source": [
    "simpleeuroBinomPricerRecursiveMatrix(S, K, r, dlta, T, n, callPayoff, u, d, verbose = True)"
   ]
  },
  {
   "cell_type": "markdown",
   "metadata": {},
   "source": [
    "#### \\$130"
   ]
  },
  {
   "cell_type": "code",
   "execution_count": 35,
   "metadata": {},
   "outputs": [],
   "source": [
    "S = 130\n",
    "K = 95\n",
    "r = 0.08\n",
    "T = 1\n",
    "sigma = 0.3\n",
    "dlta = 0.0\n",
    "u = 1.3\n",
    "d = 0.8\n",
    "n = 3"
   ]
  },
  {
   "cell_type": "code",
   "execution_count": 36,
   "metadata": {},
   "outputs": [
    {
     "name": "stdout",
     "output_type": "stream",
     "text": [
      "[[130.   169.   219.7  285.61]\n",
      " [  0.   104.   135.2  175.76]\n",
      " [  0.     0.    83.2  108.16]\n",
      " [  0.     0.     0.    66.56]]\n",
      "\n",
      "\n",
      "[[ 46.57605995  78.93392584 127.19985381 190.61      ]\n",
      " [  0.          21.9705133   42.69985381  80.76      ]\n",
      " [  0.           0.           5.81807286  13.16      ]\n",
      " [  0.           0.           0.           0.        ]]\n",
      "\n",
      "\n",
      "[[0.87636019 1.3        1.69       0.        ]\n",
      " [0.         0.56741201 1.04       0.        ]\n",
      " [0.         0.         0.20246154 0.        ]\n",
      " [0.         0.         0.         0.        ]]\n",
      "\n",
      "\n",
      "[[-67.35076514 -90.06607416 -92.50014619   0.        ]\n",
      " [  0.         -51.7930486  -92.50014619   0.        ]\n",
      " [  0.           0.         -20.50192714   0.        ]\n",
      " [  0.           0.           0.           0.        ]]\n"
     ]
    },
    {
     "data": {
      "text/plain": [
       "46.57605994755165"
      ]
     },
     "execution_count": 36,
     "metadata": {},
     "output_type": "execute_result"
    }
   ],
   "source": [
    "simpleeuroBinomPricerRecursiveMatrix(S, K, r, dlta, T, n, callPayoff, u, d, verbose = True)"
   ]
  },
  {
   "cell_type": "markdown",
   "metadata": {},
   "source": [
    "Above are the values for premium (second matrix from top), $\\Delta$ (third matrix from top), and B (bottom matrix)."
   ]
  },
  {
   "cell_type": "markdown",
   "metadata": {},
   "source": [
    "As the stock price increases, $\\Delta$ seems to be approaching 1. This indicates that one would need to purchase increasingly large percentages of a share of the underlying asset to create the synthetic option."
   ]
  },
  {
   "cell_type": "markdown",
   "metadata": {},
   "source": [
    "## Problem 5\n",
    "Let S = \\$100, K = \\$95, r = 8% (continuously compounded), $\\sigma$ = 30%, $\\delta$ = 0, T = 1, and n = 3."
   ]
  },
  {
   "cell_type": "code",
   "execution_count": 61,
   "metadata": {},
   "outputs": [],
   "source": [
    "S = 100\n",
    "K = 95\n",
    "r = 0.08\n",
    "T = 1\n",
    "sigma = 0.3\n",
    "dlta = 0.0\n",
    "n = 3"
   ]
  },
  {
   "cell_type": "markdown",
   "metadata": {},
   "source": [
    "#### a. \n",
    "What is the premium for an American call option? Is there any early exercise?"
   ]
  },
  {
   "cell_type": "code",
   "execution_count": 62,
   "metadata": {},
   "outputs": [
    {
     "data": {
      "text/plain": [
       "18.28255220737056"
      ]
     },
     "execution_count": 62,
     "metadata": {},
     "output_type": "execute_result"
    }
   ],
   "source": [
    "BinomPricerRecursive(S, K, r, sigma, dlta, T, n, callPayoff, american = True, verbose = False)"
   ]
  },
  {
   "cell_type": "markdown",
   "metadata": {},
   "source": [
    "The premium for an American call option is \\$18.283. There is no early exercise in this case (but there would be for an American put option."
   ]
  },
  {
   "cell_type": "markdown",
   "metadata": {},
   "source": [
    "#### b. \n",
    "What is the premium for a European call option? Use the computational shortcut with the risk-neutral binomial pmf that I showed you in class. Compare the American and European premia."
   ]
  },
  {
   "cell_type": "code",
   "execution_count": 63,
   "metadata": {},
   "outputs": [
    {
     "data": {
      "text/plain": [
       "18.28255220737056"
      ]
     },
     "execution_count": 63,
     "metadata": {},
     "output_type": "execute_result"
    }
   ],
   "source": [
    "BinomPricerRecursive(S, K, r, sigma, dlta, T, n, callPayoff, american = False, verbose = False)"
   ]
  },
  {
   "cell_type": "markdown",
   "metadata": {},
   "source": [
    "The premium for a European call option is \\$18.283. In this case, because there was no early exercise for the American option, there is no difference between the two premia."
   ]
  },
  {
   "cell_type": "markdown",
   "metadata": {},
   "source": [
    "#### c.\n",
    "What is the premium for a European put? Does put-call parity hold? (see McDonald Chapter 9). Also use the risk-neutral binomial pmf for this problem."
   ]
  },
  {
   "cell_type": "code",
   "execution_count": 64,
   "metadata": {},
   "outputs": [
    {
     "data": {
      "text/plain": [
       "5.97860511410097"
      ]
     },
     "execution_count": 64,
     "metadata": {},
     "output_type": "execute_result"
    }
   ],
   "source": [
    "BinomPricerRecursive(S, K, r, sigma, dlta, T, n, putPayoff, american = False, verbose = False)"
   ]
  },
  {
   "cell_type": "code",
   "execution_count": 70,
   "metadata": {},
   "outputs": [
    {
     "name": "stdout",
     "output_type": "stream",
     "text": [
      "12.305000000000001\n",
      "12.3039470932696\n"
     ]
    }
   ],
   "source": [
    "callminusput = 18.283 - 5.978\n",
    "difftimesdiscount = 100 - 95*np.exp(-0.08*1)\n",
    "print(callminusput)\n",
    "print(difftimesdiscount)"
   ]
  },
  {
   "cell_type": "markdown",
   "metadata": {},
   "source": [
    "It appears from the above that put-call parity does hold because the two values above are equivalent. "
   ]
  },
  {
   "cell_type": "markdown",
   "metadata": {},
   "source": [
    "#### d.\n",
    "What is the premium of the American put? Compare with the European put. If they differ, explain why."
   ]
  },
  {
   "cell_type": "code",
   "execution_count": 57,
   "metadata": {},
   "outputs": [
    {
     "data": {
      "text/plain": [
       "6.677901227132065"
      ]
     },
     "execution_count": 57,
     "metadata": {},
     "output_type": "execute_result"
    }
   ],
   "source": [
    "BinomPricerRecursive(S, K, r, sigma, dlta, T, n, putPayoff, american = True, verbose = False)"
   ]
  },
  {
   "cell_type": "markdown",
   "metadata": {},
   "source": [
    "The premium for an American put is \\$6.677. The premium for a European put is \\$5.97. The difference is due to the early exercise associated with the American option."
   ]
  },
  {
   "cell_type": "markdown",
   "metadata": {},
   "source": [
    "## Problem 6\n",
    "Let S = \\$40, K = \\$40, r = 8% (continuously compounded), $\\sigma$ = 30%, $\\delta$ = 0.0, T = 0.5, and n = 3"
   ]
  },
  {
   "cell_type": "code",
   "execution_count": 58,
   "metadata": {},
   "outputs": [],
   "source": [
    "S = 40\n",
    "K = 40 \n",
    "r = 0.08\n",
    "sigma = .3\n",
    "dlta = 0.0\n",
    "T = 0.5\n",
    "n = 3"
   ]
  },
  {
   "cell_type": "markdown",
   "metadata": {},
   "source": [
    "#### a. \n",
    "Construct the binomial tree for the stock. What are u and d?"
   ]
  },
  {
   "cell_type": "markdown",
   "metadata": {},
   "source": [
    "Put Binomial Tree:"
   ]
  },
  {
   "cell_type": "code",
   "execution_count": 59,
   "metadata": {},
   "outputs": [
    {
     "name": "stdout",
     "output_type": "stream",
     "text": [
      "[[40.         45.81846953 52.48330374 60.11761633]\n",
      " [ 0.         35.86415398 41.08101616 47.05673217]\n",
      " [ 0.          0.         32.15593852 36.83339723]\n",
      " [ 0.          0.          0.         28.83113826]]\n",
      "\n",
      "\n",
      "[[ 2.80900708  0.86799019  0.          0.        ]\n",
      " [ 0.          4.59734223  1.65788424  0.        ]\n",
      " [ 0.          0.          7.31426795  3.16660277]\n",
      " [ 0.          0.          0.         11.16886174]]\n",
      "\n",
      "\n",
      "[[-0.37464676 -0.1665493   0.          0.        ]\n",
      " [ 0.         -0.56823432 -0.31811356  0.        ]\n",
      " [ 0.          0.         -0.80389846  0.        ]\n",
      " [ 0.          0.          0.          0.        ]]\n",
      "\n",
      "\n",
      "[[17.79487738  7.52996199  0.          0.        ]\n",
      " [ 0.         27.326715   14.3824267   0.        ]\n",
      " [ 0.          0.         39.47020647  0.        ]\n",
      " [ 0.          0.          0.          0.        ]]\n"
     ]
    },
    {
     "data": {
      "text/plain": [
       "2.8090070796101805"
      ]
     },
     "execution_count": 59,
     "metadata": {},
     "output_type": "execute_result"
    }
   ],
   "source": [
    "euroBinomPricerRecursiveMatrix(S, K, r, sigma, dlta, T, n, putPayoff, verbose = True)"
   ]
  },
  {
   "cell_type": "markdown",
   "metadata": {},
   "source": [
    "Call Binomial Tree:"
   ]
  },
  {
   "cell_type": "code",
   "execution_count": 28,
   "metadata": {},
   "outputs": [
    {
     "name": "stdout",
     "output_type": "stream",
     "text": [
      "[[40.         45.81846953 52.48330374 60.11761633]\n",
      " [ 0.         35.86415398 41.08101616 47.05673217]\n",
      " [ 0.          0.         32.15593852 36.83339723]\n",
      " [ 0.          0.          0.         28.83113826]]\n",
      "\n",
      "\n",
      "[[ 4.37742951  7.73902974 13.01309727 20.11761633]\n",
      " [ 0.          1.51406624  3.26869392  7.05673217]\n",
      " [ 0.          0.          0.          0.        ]\n",
      " [ 0.          0.          0.          0.        ]]\n",
      "\n",
      "\n",
      "[[0.62535324 0.97891244 1.31208259 0.        ]\n",
      " [0.         0.32836953 0.70891184 0.        ]\n",
      " [0.         0.         0.         0.        ]\n",
      " [0.         0.         0.         0.        ]]\n",
      "\n",
      "\n",
      "[[-20.63670018 -31.41746798 -39.47020647   0.        ]\n",
      " [  0.         -11.62071497 -25.08777977   0.        ]\n",
      " [  0.           0.           0.           0.        ]\n",
      " [  0.           0.           0.           0.        ]]\n"
     ]
    },
    {
     "data": {
      "text/plain": [
       "4.377429513517246"
      ]
     },
     "execution_count": 28,
     "metadata": {},
     "output_type": "execute_result"
    }
   ],
   "source": [
    "euroBinomPricerRecursiveMatrix(S, K, r, sigma, dlta, T, n, callPayoff, verbose = True)"
   ]
  },
  {
   "cell_type": "markdown",
   "metadata": {},
   "source": [
    "U:"
   ]
  },
  {
   "cell_type": "code",
   "execution_count": 29,
   "metadata": {},
   "outputs": [
    {
     "data": {
      "text/plain": [
       "1.1454617381452392"
      ]
     },
     "execution_count": 29,
     "metadata": {},
     "output_type": "execute_result"
    }
   ],
   "source": [
    "U(r, dlta, T, n, sigma)"
   ]
  },
  {
   "cell_type": "markdown",
   "metadata": {},
   "source": [
    "D:"
   ]
  },
  {
   "cell_type": "code",
   "execution_count": 30,
   "metadata": {},
   "outputs": [
    {
     "data": {
      "text/plain": [
       "0.8966038495199921"
      ]
     },
     "execution_count": 30,
     "metadata": {},
     "output_type": "execute_result"
    }
   ],
   "source": [
    "D(r, dlta, T, n, sigma)"
   ]
  },
  {
   "cell_type": "markdown",
   "metadata": {},
   "source": [
    "##### American Call"
   ]
  },
  {
   "cell_type": "code",
   "execution_count": 44,
   "metadata": {},
   "outputs": [
    {
     "data": {
      "text/plain": [
       "4.377429513517246"
      ]
     },
     "execution_count": 44,
     "metadata": {},
     "output_type": "execute_result"
    }
   ],
   "source": [
    "BinomPricerRecursive(S, K, r, sigma, dlta, T, n, callPayoff, american = True, verbose = False)"
   ]
  },
  {
   "cell_type": "markdown",
   "metadata": {},
   "source": [
    "##### American Put"
   ]
  },
  {
   "cell_type": "code",
   "execution_count": 45,
   "metadata": {},
   "outputs": [
    {
     "data": {
      "text/plain": [
       "2.9542275627722927"
      ]
     },
     "execution_count": 45,
     "metadata": {},
     "output_type": "execute_result"
    }
   ],
   "source": [
    "BinomPricerRecursive(S, K, r, sigma, dlta, T, n, putPayoff, american = True, verbose = False)"
   ]
  },
  {
   "cell_type": "markdown",
   "metadata": {},
   "source": [
    "##### European Call"
   ]
  },
  {
   "cell_type": "code",
   "execution_count": 46,
   "metadata": {},
   "outputs": [
    {
     "data": {
      "text/plain": [
       "4.377429513517246"
      ]
     },
     "execution_count": 46,
     "metadata": {},
     "output_type": "execute_result"
    }
   ],
   "source": [
    "BinomPricerRecursive(S, K, r, sigma, dlta, T, n, callPayoff, american = False, verbose = False)"
   ]
  },
  {
   "cell_type": "markdown",
   "metadata": {},
   "source": [
    "##### European Put"
   ]
  },
  {
   "cell_type": "code",
   "execution_count": 47,
   "metadata": {},
   "outputs": [
    {
     "data": {
      "text/plain": [
       "2.8090070796101805"
      ]
     },
     "execution_count": 47,
     "metadata": {},
     "output_type": "execute_result"
    }
   ],
   "source": [
    "BinomPricerRecursive(S, K, r, sigma, dlta, T, n, putPayoff, american = False, verbose = False)"
   ]
  },
  {
   "cell_type": "code",
   "execution_count": null,
   "metadata": {},
   "outputs": [],
   "source": []
  },
  {
   "cell_type": "code",
   "execution_count": null,
   "metadata": {},
   "outputs": [],
   "source": []
  },
  {
   "cell_type": "code",
   "execution_count": null,
   "metadata": {},
   "outputs": [],
   "source": []
  },
  {
   "cell_type": "code",
   "execution_count": null,
   "metadata": {},
   "outputs": [],
   "source": []
  },
  {
   "cell_type": "code",
   "execution_count": null,
   "metadata": {},
   "outputs": [],
   "source": []
  },
  {
   "cell_type": "code",
   "execution_count": null,
   "metadata": {},
   "outputs": [],
   "source": []
  },
  {
   "cell_type": "code",
   "execution_count": null,
   "metadata": {},
   "outputs": [],
   "source": []
  },
  {
   "cell_type": "code",
   "execution_count": null,
   "metadata": {},
   "outputs": [],
   "source": []
  },
  {
   "cell_type": "code",
   "execution_count": null,
   "metadata": {},
   "outputs": [],
   "source": []
  },
  {
   "cell_type": "code",
   "execution_count": null,
   "metadata": {},
   "outputs": [],
   "source": []
  },
  {
   "cell_type": "code",
   "execution_count": null,
   "metadata": {},
   "outputs": [],
   "source": []
  },
  {
   "cell_type": "code",
   "execution_count": null,
   "metadata": {},
   "outputs": [],
   "source": []
  },
  {
   "cell_type": "code",
   "execution_count": null,
   "metadata": {},
   "outputs": [],
   "source": []
  }
 ],
 "metadata": {
  "kernelspec": {
   "display_name": "Python 3",
   "language": "python",
   "name": "python3"
  },
  "language_info": {
   "codemirror_mode": {
    "name": "ipython",
    "version": 3
   },
   "file_extension": ".py",
   "mimetype": "text/x-python",
   "name": "python",
   "nbconvert_exporter": "python",
   "pygments_lexer": "ipython3",
   "version": "3.6.5"
  }
 },
 "nbformat": 4,
 "nbformat_minor": 2
}
